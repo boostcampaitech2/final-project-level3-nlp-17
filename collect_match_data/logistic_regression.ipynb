{
 "cells": [
  {
   "cell_type": "code",
   "execution_count": 69,
   "id": "5d9d1313-5353-41e4-ae5b-8acfe650fd18",
   "metadata": {},
   "outputs": [],
   "source": [
    "import os\n",
    "import csv\n",
    "import json\n",
    "import numpy as np\n",
    "import pandas as pd\n",
    "from tqdm import tqdm\n",
    "from pprint import pprint\n",
    "\n",
    "from sklearn.preprocessing import OrdinalEncoder\n",
    "from sklearn.preprocessing import OneHotEncoder\n",
    "from sklearn.preprocessing import LabelBinarizer\n",
    "\n",
    "from sklearn.model_selection import train_test_split\n",
    "from sklearn.linear_model import LogisticRegression\n",
    "from sklearn.metrics import accuracy_score, confusion_matrix\n",
    "\n",
    "\n",
    "DATA_PATH = \"../data\""
   ]
  },
  {
   "cell_type": "code",
   "execution_count": 269,
   "id": "2ea229ef",
   "metadata": {},
   "outputs": [
    {
     "data": {
      "text/plain": [
       "[10, 4]"
      ]
     },
     "execution_count": 269,
     "metadata": {},
     "output_type": "execute_result"
    }
   ],
   "source": [
    "[1, 2, 3, 4, 10][:-3:-1]"
   ]
  },
  {
   "cell_type": "code",
   "execution_count": 5,
   "id": "08737aad-8f69-4c8c-a9bf-0e391f23c16f",
   "metadata": {},
   "outputs": [
    {
     "data": {
      "text/html": [
       "<div>\n",
       "<style scoped>\n",
       "    .dataframe tbody tr th:only-of-type {\n",
       "        vertical-align: middle;\n",
       "    }\n",
       "\n",
       "    .dataframe tbody tr th {\n",
       "        vertical-align: top;\n",
       "    }\n",
       "\n",
       "    .dataframe thead th {\n",
       "        text-align: right;\n",
       "    }\n",
       "</style>\n",
       "<table border=\"1\" class=\"dataframe\">\n",
       "  <thead>\n",
       "    <tr style=\"text-align: right;\">\n",
       "      <th></th>\n",
       "      <th>game_Id</th>\n",
       "      <th>game_duration</th>\n",
       "      <th>champions_picked</th>\n",
       "      <th>gold_difference</th>\n",
       "      <th>damage_difference</th>\n",
       "      <th>win</th>\n",
       "    </tr>\n",
       "  </thead>\n",
       "  <tbody>\n",
       "    <tr>\n",
       "      <th>0</th>\n",
       "      <td>KR_5583030086</td>\n",
       "      <td>1501</td>\n",
       "      <td>['Irelia', 'Ekko', 'Zed', 'Vayne', 'Aatrox', '...</td>\n",
       "      <td>-11660</td>\n",
       "      <td>-24603</td>\n",
       "      <td>False</td>\n",
       "    </tr>\n",
       "    <tr>\n",
       "      <th>1</th>\n",
       "      <td>KR_5582966326</td>\n",
       "      <td>1399</td>\n",
       "      <td>['Renekton', 'Taliyah', 'Sylas', 'Draven', 'Na...</td>\n",
       "      <td>-878</td>\n",
       "      <td>-12928</td>\n",
       "      <td>False</td>\n",
       "    </tr>\n",
       "    <tr>\n",
       "      <th>2</th>\n",
       "      <td>KR_5582953729</td>\n",
       "      <td>1072</td>\n",
       "      <td>['Kalista', 'Warwick', 'Qiyana', 'Jhin', 'Karm...</td>\n",
       "      <td>-6809</td>\n",
       "      <td>-9867</td>\n",
       "      <td>False</td>\n",
       "    </tr>\n",
       "    <tr>\n",
       "      <th>3</th>\n",
       "      <td>KR_5580827743</td>\n",
       "      <td>1646</td>\n",
       "      <td>['DrMundo', 'Talon', 'Zoe', 'Ashe', 'Sett', 'J...</td>\n",
       "      <td>9020</td>\n",
       "      <td>11615</td>\n",
       "      <td>True</td>\n",
       "    </tr>\n",
       "    <tr>\n",
       "      <th>4</th>\n",
       "      <td>KR_5580787457</td>\n",
       "      <td>1463</td>\n",
       "      <td>['Jax', 'Khazix', 'Katarina', 'Aphelios', 'Nam...</td>\n",
       "      <td>-10026</td>\n",
       "      <td>-7898</td>\n",
       "      <td>False</td>\n",
       "    </tr>\n",
       "    <tr>\n",
       "      <th>...</th>\n",
       "      <td>...</td>\n",
       "      <td>...</td>\n",
       "      <td>...</td>\n",
       "      <td>...</td>\n",
       "      <td>...</td>\n",
       "      <td>...</td>\n",
       "    </tr>\n",
       "    <tr>\n",
       "      <th>317233</th>\n",
       "      <td>KR_5613046424</td>\n",
       "      <td>925</td>\n",
       "      <td>['Irelia', 'Karthus', 'Ryze', 'Samira', 'Rell'...</td>\n",
       "      <td>-13666</td>\n",
       "      <td>-18843</td>\n",
       "      <td>False</td>\n",
       "    </tr>\n",
       "    <tr>\n",
       "      <th>317234</th>\n",
       "      <td>KR_5613052577</td>\n",
       "      <td>1471</td>\n",
       "      <td>['Syndra', 'Viego', 'Jayce', 'Aphelios', 'Lux'...</td>\n",
       "      <td>-11210</td>\n",
       "      <td>-6252</td>\n",
       "      <td>False</td>\n",
       "    </tr>\n",
       "    <tr>\n",
       "      <th>317235</th>\n",
       "      <td>KR_5612968773</td>\n",
       "      <td>938</td>\n",
       "      <td>['Tryndamere', 'Viego', 'Viktor', 'Jhin', 'Kar...</td>\n",
       "      <td>-14171</td>\n",
       "      <td>-20732</td>\n",
       "      <td>False</td>\n",
       "    </tr>\n",
       "    <tr>\n",
       "      <th>317236</th>\n",
       "      <td>KR_5612903241</td>\n",
       "      <td>1958</td>\n",
       "      <td>['Qiyana', 'Vayne', 'Ryze', 'Yuumi', 'LeeSin',...</td>\n",
       "      <td>-1899</td>\n",
       "      <td>-8456</td>\n",
       "      <td>True</td>\n",
       "    </tr>\n",
       "    <tr>\n",
       "      <th>317237</th>\n",
       "      <td>KR_5612609672</td>\n",
       "      <td>1625</td>\n",
       "      <td>['Kennen', 'LeeSin', 'Akshan', 'Jinx', 'Lulu',...</td>\n",
       "      <td>-9313</td>\n",
       "      <td>-6761</td>\n",
       "      <td>False</td>\n",
       "    </tr>\n",
       "  </tbody>\n",
       "</table>\n",
       "<p>317238 rows × 6 columns</p>\n",
       "</div>"
      ],
      "text/plain": [
       "              game_Id  game_duration  \\\n",
       "0       KR_5583030086           1501   \n",
       "1       KR_5582966326           1399   \n",
       "2       KR_5582953729           1072   \n",
       "3       KR_5580827743           1646   \n",
       "4       KR_5580787457           1463   \n",
       "...               ...            ...   \n",
       "317233  KR_5613046424            925   \n",
       "317234  KR_5613052577           1471   \n",
       "317235  KR_5612968773            938   \n",
       "317236  KR_5612903241           1958   \n",
       "317237  KR_5612609672           1625   \n",
       "\n",
       "                                         champions_picked  gold_difference  \\\n",
       "0       ['Irelia', 'Ekko', 'Zed', 'Vayne', 'Aatrox', '...           -11660   \n",
       "1       ['Renekton', 'Taliyah', 'Sylas', 'Draven', 'Na...             -878   \n",
       "2       ['Kalista', 'Warwick', 'Qiyana', 'Jhin', 'Karm...            -6809   \n",
       "3       ['DrMundo', 'Talon', 'Zoe', 'Ashe', 'Sett', 'J...             9020   \n",
       "4       ['Jax', 'Khazix', 'Katarina', 'Aphelios', 'Nam...           -10026   \n",
       "...                                                   ...              ...   \n",
       "317233  ['Irelia', 'Karthus', 'Ryze', 'Samira', 'Rell'...           -13666   \n",
       "317234  ['Syndra', 'Viego', 'Jayce', 'Aphelios', 'Lux'...           -11210   \n",
       "317235  ['Tryndamere', 'Viego', 'Viktor', 'Jhin', 'Kar...           -14171   \n",
       "317236  ['Qiyana', 'Vayne', 'Ryze', 'Yuumi', 'LeeSin',...            -1899   \n",
       "317237  ['Kennen', 'LeeSin', 'Akshan', 'Jinx', 'Lulu',...            -9313   \n",
       "\n",
       "        damage_difference    win  \n",
       "0                  -24603  False  \n",
       "1                  -12928  False  \n",
       "2                   -9867  False  \n",
       "3                   11615   True  \n",
       "4                   -7898  False  \n",
       "...                   ...    ...  \n",
       "317233             -18843  False  \n",
       "317234              -6252  False  \n",
       "317235             -20732  False  \n",
       "317236              -8456   True  \n",
       "317237              -6761  False  \n",
       "\n",
       "[317238 rows x 6 columns]"
      ]
     },
     "execution_count": 5,
     "metadata": {},
     "output_type": "execute_result"
    }
   ],
   "source": [
    "with open(os.path.join(DATA_PATH, \"Champions_picked.csv\"), \"r\") as f:\n",
    "    df = pd.read_csv(f)\n",
    "df"
   ]
  },
  {
   "cell_type": "code",
   "execution_count": 183,
   "id": "23dd79b2",
   "metadata": {},
   "outputs": [
    {
     "name": "stderr",
     "output_type": "stream",
     "text": [
      "100%|██████████| 317238/317238 [00:14<00:00, 21855.70it/s]\n"
     ]
    }
   ],
   "source": [
    "champions_data = []\n",
    "champions_set = set()\n",
    "for champion_str in tqdm(df[\"champions_picked\"]):\n",
    "    champions_data.append(eval(champion_str))"
   ]
  },
  {
   "cell_type": "code",
   "execution_count": 248,
   "id": "e7b4e49f",
   "metadata": {},
   "outputs": [],
   "source": [
    "ohe = OneHotEncoder(sparse=False)\n",
    "X = ohe.fit_transform(champions_data)\n",
    "y = list(map(int, df[\"win\"]))"
   ]
  },
  {
   "cell_type": "code",
   "execution_count": 261,
   "id": "bd7d278a",
   "metadata": {},
   "outputs": [
    {
     "data": {
      "text/plain": [
       "LogisticRegression(max_iter=500)"
      ]
     },
     "execution_count": 261,
     "metadata": {},
     "output_type": "execute_result"
    }
   ],
   "source": [
    "X_train, X_test, y_train, y_test = train_test_split(X, y, test_size = 0.2, random_state = 0)\n",
    "model = LogisticRegression(max_iter=500)\n",
    "model.fit(X_train, y_train)"
   ]
  },
  {
   "cell_type": "code",
   "execution_count": 262,
   "id": "f956acb1",
   "metadata": {},
   "outputs": [
    {
     "data": {
      "text/plain": [
       "0.5358246122809229"
      ]
     },
     "execution_count": 262,
     "metadata": {},
     "output_type": "execute_result"
    }
   ],
   "source": [
    "y_pred = model.predict(X_test)\n",
    "accuracy = accuracy_score(y_pred, y_test)\n",
    "accuracy"
   ]
  },
  {
   "cell_type": "code",
   "execution_count": 265,
   "id": "a9930814",
   "metadata": {},
   "outputs": [
    {
     "data": {
      "text/plain": [
       "(317238, 1570)"
      ]
     },
     "execution_count": 265,
     "metadata": {},
     "output_type": "execute_result"
    }
   ],
   "source": [
    "    # champions_set.update(eval(champion_str))\n",
    "\n",
    "# lb = LabelBinarizer()\n",
    "# lb.fit(list(champions_set))\n",
    "# champions_one_hot_encoded = []\n",
    "# for champions in tqdm(champions_data):\n",
    "#     champions_one_hot_encoded.append(lb.transform(champions))\n",
    "\n",
    "# X = champions_one_hot_encoded\n"
   ]
  }
 ],
 "metadata": {
  "kernelspec": {
   "display_name": "Python 3 (ipykernel)",
   "language": "python",
   "name": "python3"
  },
  "language_info": {
   "codemirror_mode": {
    "name": "ipython",
    "version": 3
   },
   "file_extension": ".py",
   "mimetype": "text/x-python",
   "name": "python",
   "nbconvert_exporter": "python",
   "pygments_lexer": "ipython3",
   "version": "3.8.5"
  }
 },
 "nbformat": 4,
 "nbformat_minor": 5
}
