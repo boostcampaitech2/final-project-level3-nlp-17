{
 "cells": [
  {
   "cell_type": "code",
   "execution_count": 1,
   "id": "5d9d1313-5353-41e4-ae5b-8acfe650fd18",
   "metadata": {},
   "outputs": [],
   "source": [
    "import torch\n",
    "\n",
    "from src.modules import TabNetNoEmbeddings, TabNet, TabNetPretraining\n",
    "from arguments import (ModelArguments, DataArguments)\n",
    "from dataset import TabularDataset, TestTabularDataset, EasyTabularDataset\n",
    "\n",
    "import torch\n",
    "from torch import nn\n",
    "from torch.utils.data import DataLoader\n",
    "\n",
    "from tqdm import tqdm\n",
    "\n",
    "import matplotlib.pyplot as plt\n",
    "\n",
    "import PIL\n",
    "from PIL import Image\n",
    "\n",
    "from torchvision.transforms.functional import to_pil_image"
   ]
  },
  {
   "cell_type": "code",
   "execution_count": 2,
   "id": "f570b80f-3194-40de-bb1f-b19cca8cffc9",
   "metadata": {},
   "outputs": [],
   "source": [
    "def Equalize(img: Image) -> Image:\n",
    "    return PIL.ImageOps.equalize(img)"
   ]
  },
  {
   "cell_type": "code",
   "execution_count": 3,
   "id": "8c0c69f3-91cf-4f1a-86fd-aa55bd2d9437",
   "metadata": {},
   "outputs": [],
   "source": [
    "def Invert(img: Image) -> Image:\n",
    "    return PIL.ImageOps.invert(img)"
   ]
  },
  {
   "cell_type": "code",
   "execution_count": 4,
   "id": "08737aad-8f69-4c8c-a9bf-0e391f23c16f",
   "metadata": {},
   "outputs": [],
   "source": [
    "model_args = ModelArguments\n",
    "data_args = DataArguments\n",
    "\n",
    "device = torch.device( 'cuda' if torch.cuda.is_available() else 'cpu' ) #'cuda' if torch.cuda.is_available() else 'cpu'"
   ]
  },
  {
   "cell_type": "code",
   "execution_count": 6,
   "id": "a0c2408c-f975-4c88-881b-a9b179f12dee",
   "metadata": {},
   "outputs": [],
   "source": [
    "model = TabNet(\n",
    "    model_args.input_dim,\n",
    "    model_args.output_dim,\n",
    "    model_args.n_d,\n",
    "    model_args.n_a,\n",
    "    model_args.n_steps,\n",
    "    model_args.gamma,\n",
    "    [],\n",
    "    [],\n",
    "    model_args.cat_emb_dim,\n",
    "    model_args.n_independent,\n",
    "    model_args.n_shared,\n",
    "    model_args.virtual_batch_size,\n",
    "    model_args.momentum,\n",
    "    model_args.epsilon,\n",
    "    ).to(device)"
   ]
  },
  {
   "cell_type": "code",
   "execution_count": 7,
   "id": "f2e0152e-56fd-4a50-a94c-a3ebc2bbf89b",
   "metadata": {},
   "outputs": [],
   "source": [
    "model.load_state_dict(torch.load('./src/model/pretrain_easy_model.pt', map_location=device))\n",
    "\n",
    "model.eval()\n",
    "\n",
    "dataset = EasyTabularDataset(model_args, data_args)"
   ]
  },
  {
   "cell_type": "code",
   "execution_count": 16,
   "id": "5d12e406-4a43-4b5e-85af-7461898bef98",
   "metadata": {},
   "outputs": [
    {
     "data": {
      "text/plain": [
       "'magicDamageDealt_0_l'"
      ]
     },
     "execution_count": 16,
     "metadata": {},
     "output_type": "execute_result"
    }
   ],
   "source": [
    "dataset.data.columns"
   ]
  },
  {
   "cell_type": "code",
   "execution_count": 8,
   "id": "cdea9b94-742c-4ced-af2c-d849bddd0fbc",
   "metadata": {
    "tags": []
   },
   "outputs": [
    {
     "name": "stderr",
     "output_type": "stream",
     "text": [
      "100%|██████████| 35408/35408 [12:47<00:00, 46.13it/s]\n"
     ]
    }
   ],
   "source": [
    "M_explains = []\n",
    "for x, label in tqdm(dataset):\n",
    "    M_explain, _ = model.forward_masks(x.view(1,-1).to(device))\n",
    "    M_explains.append(M_explain[0].detach().cpu())\n",
    "M_explains = torch.stack(M_explains)"
   ]
  },
  {
   "cell_type": "code",
   "execution_count": 22,
   "id": "a1876013-773d-4cae-a2be-780a48b47cad",
   "metadata": {},
   "outputs": [
    {
     "data": {
      "text/plain": [
       "torch.Size([35408, 350])"
      ]
     },
     "execution_count": 22,
     "metadata": {},
     "output_type": "execute_result"
    }
   ],
   "source": [
    "M_explains.shape"
   ]
  },
  {
   "cell_type": "code",
   "execution_count": 9,
   "id": "0ee315a4-b223-40b4-a214-07dc0b064b4e",
   "metadata": {},
   "outputs": [],
   "source": [
    "t = torch.sum(M_explains, dim=0).view(1,-1)"
   ]
  },
  {
   "cell_type": "markdown",
   "id": "0b0c722e-7972-4bc7-9f51-77c72198eb13",
   "metadata": {},
   "source": [
    "주요 피처"
   ]
  },
  {
   "cell_type": "code",
   "execution_count": 20,
   "id": "a55fac3e-6acc-414f-bb75-48f069091c3f",
   "metadata": {},
   "outputs": [],
   "source": [
    "max_M_explains = [t[0].tolist().index(i) for i in sorted(t[0].tolist(), reverse=True)[:20]]"
   ]
  },
  {
   "cell_type": "code",
   "execution_count": 21,
   "id": "e47e711e-9328-44a5-9186-e6361ce6cad0",
   "metadata": {},
   "outputs": [
    {
     "data": {
      "text/plain": [
       "['turretsLost_4_l',\n",
       " 'turretsLost_6_l',\n",
       " 'turretsLost_3_l',\n",
       " 'turretsLost_1_l',\n",
       " 'wardsKilled_1_l',\n",
       " 'physicalDamageDealtToChampions_5_l',\n",
       " 'turretsLost_0_l',\n",
       " 'assists_3_l',\n",
       " 'deaths_7_l',\n",
       " 'trueDamageTaken_7_l',\n",
       " 'totalMinionsKilled_5_l',\n",
       " 'dragonKills_0_l',\n",
       " 'damageDealtToObjectives_1_l',\n",
       " 'magicDamageTaken_4_l',\n",
       " 'turretsLost_8_l',\n",
       " 'wardsPlaced_9_l',\n",
       " 'neutralMinionsKilled_7_l',\n",
       " 'totalHeal_4_l',\n",
       " 'neutralMinionsKilled_2_l',\n",
       " 'turretKills_8_l']"
      ]
     },
     "execution_count": 21,
     "metadata": {},
     "output_type": "execute_result"
    }
   ],
   "source": [
    "[dataset.data.columns[i] for i in max_M_explains]"
   ]
  },
  {
   "cell_type": "code",
   "execution_count": 12,
   "id": "d510538f-06eb-4170-b00b-7571c9d8cf1b",
   "metadata": {},
   "outputs": [
    {
     "data": {
      "image/png": "[encoded data removed]",
      "text/plain": [
       "<Figure size 1080x720 with 2 Axes>"
      ]
     },
     "metadata": {
      "needs_background": "light"
     },
     "output_type": "display_data"
    },
    {
     "name": "stdout",
     "output_type": "stream",
     "text": [
      "<PIL.Image.Image image mode=L size=350x1 at 0x7F7F783D81D0>\n"
     ]
    }
   ],
   "source": [
    "t = torch.sum(M_explains, dim=0).view(1,-1)\n",
    "t = torch.nn.functional.normalize(t)\n",
    "t = t\n",
    "fig, axes = plt.subplots(2, 1, figsize=(15,10))\n",
    "\n",
    "axes[0].set_xlim(0,350)\n",
    "axes[0].set_xticks([i*35 for i in range(10)])\n",
    "axes[0].bar(range(len(t[0])), t[0])\n",
    "\n",
    "axes[1].imshow(Equalize(to_pil_image(t).resize((350,100))), cmap='gray')\n",
    "plt.show()\n",
    "print(to_pil_image(t))"
   ]
  },
  {
   "cell_type": "code",
   "execution_count": 23,
   "id": "972e693b-77f5-4004-b9ab-0a445fe2a62b",
   "metadata": {},
   "outputs": [
    {
     "data": {
      "text/plain": [
       "0.02"
      ]
     },
     "execution_count": 23,
     "metadata": {},
     "output_type": "execute_result"
    }
   ],
   "source": [
    "2e-2"
   ]
  },
  {
   "cell_type": "code",
   "execution_count": null,
   "id": "02459939-fbc9-487f-8e90-41fdee450c5a",
   "metadata": {},
   "outputs": [],
   "source": []
  }
 ],
 "metadata": {
  "kernelspec": {
   "display_name": "Python 3",
   "language": "python",
   "name": "python3"
  },
  "language_info": {
   "codemirror_mode": {
    "name": "ipython",
    "version": 3
   },
   "file_extension": ".py",
   "mimetype": "text/x-python",
   "name": "python",
   "nbconvert_exporter": "python",
   "pygments_lexer": "ipython3",
   "version": "3.7.11"
  }
 },
 "nbformat": 4,
 "nbformat_minor": 5
}
