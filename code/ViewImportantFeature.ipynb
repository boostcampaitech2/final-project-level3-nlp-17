{
 "cells": [
  {
   "cell_type": "code",
   "execution_count": 1,
   "id": "5d9d1313-5353-41e4-ae5b-8acfe650fd18",
   "metadata": {},
   "outputs": [],
   "source": [
    "import torch\n",
    "\n",
    "from src.modules import TabNetNoEmbeddings, TabNet, TabNetPretraining\n",
    "from arguments import (ModelArguments, DataArguments)\n",
    "from dataset import TabularDataset, TabularDatasetFromHuggingface\n",
    "\n",
    "import torch\n",
    "from torch import nn\n",
    "from torch.utils.data import DataLoader\n",
    "\n",
    "from tqdm import tqdm\n",
    "\n",
    "import matplotlib.pyplot as plt\n",
    "\n",
    "import PIL\n",
    "from PIL import Image\n",
    "\n",
    "from torchvision.transforms.functional import to_pil_image\n",
    "\n",
    "from datasets import load_dataset\n",
    "\n",
    "import yaml"
   ]
  },
  {
   "cell_type": "markdown",
   "id": "ae55cb10-412c-486e-bd46-89ac4a278d1d",
   "metadata": {},
   "source": [
    "#### 시각화를 위한 함수"
   ]
  },
  {
   "cell_type": "code",
   "execution_count": 2,
   "id": "f570b80f-3194-40de-bb1f-b19cca8cffc9",
   "metadata": {},
   "outputs": [],
   "source": [
    "def Equalize(img: Image) -> Image:\n",
    "    return PIL.ImageOps.equalize(img)\n",
    "\n",
    "def Invert(img: Image) -> Image:\n",
    "    return PIL.ImageOps.invert(img)"
   ]
  },
  {
   "cell_type": "markdown",
   "id": "73b61695-ab6d-407c-8625-52acec7faa7d",
   "metadata": {},
   "source": [
    "#### 모델 불러오기"
   ]
  },
  {
   "cell_type": "code",
   "execution_count": 3,
   "id": "08737aad-8f69-4c8c-a9bf-0e391f23c16f",
   "metadata": {},
   "outputs": [],
   "source": [
    "model_args = ModelArguments\n",
    "data_args = DataArguments\n",
    "\n",
    "device = torch.device( 'cuda' if torch.cuda.is_available() else 'cpu' ) #'cuda' if torch.cuda.is_available() else 'cpu'"
   ]
  },
  {
   "cell_type": "code",
   "execution_count": 4,
   "id": "a0c2408c-f975-4c88-881b-a9b179f12dee",
   "metadata": {},
   "outputs": [],
   "source": [
    "with open('./src/model/best_model/best_model.yml') as f:\n",
    "        config = yaml.load(f, Loader=yaml.FullLoader)\n",
    "\n",
    "model = TabNet(\n",
    "    config['input_dim'],\n",
    "    config['output_dim'],\n",
    "    config['n_d'],\n",
    "    config['n_a'],\n",
    "    config['n_steps'],\n",
    "    config['gamma'],\n",
    "    config['cat_idxs'],\n",
    "    config['cat_dims'],\n",
    "    config['cat_emb_dim'],\n",
    "    config['n_independent'],\n",
    "    config['n_shared'],\n",
    "    config['virtual_batch_size'],\n",
    "    config['momentum'],\n",
    "    config['epsilon'],\n",
    "    ).to(device)"
   ]
  },
  {
   "cell_type": "code",
   "execution_count": 12,
   "id": "f2e0152e-56fd-4a50-a94c-a3ebc2bbf89b",
   "metadata": {},
   "outputs": [
    {
     "name": "stdout",
     "output_type": "stream",
     "text": [
      "\n"
     ]
    }
   ],
   "source": [
    "model.load_state_dict(torch.load('./src/model/best_model/best_model.pt', map_location=device))\n",
    "\n",
    "model.eval()\n",
    "print()"
   ]
  },
  {
   "cell_type": "markdown",
   "id": "3476328a-66c8-473c-a8e9-6179657273ce",
   "metadata": {},
   "source": [
    "#### 데이터셋 불러오기"
   ]
  },
  {
   "cell_type": "code",
   "execution_count": 6,
   "id": "5b6bca6b-41da-492e-824c-c5aa0c720827",
   "metadata": {},
   "outputs": [
    {
     "name": "stderr",
     "output_type": "stream",
     "text": [
      "Using custom data configuration PDJ107--riot-data-0e3b3e895212b2de\n",
      "Reusing dataset csv (/opt/ml/.cache/huggingface/datasets/csv/PDJ107--riot-data-0e3b3e895212b2de/0.0.0/6b9057d9e23d9d8a2f05b985917a0da84d70c5dae3d22ddd8a3f22fb01c69d9e)\n"
     ]
    },
    {
     "data": {
      "application/vnd.jupyter.widget-view+json": {
       "model_id": "23ec326ffeb54dd19d5d1c42093bdf2c",
       "version_major": 2,
       "version_minor": 0
      },
      "text/plain": [
       "  0%|          | 0/1 [00:00<?, ?it/s]"
      ]
     },
     "metadata": {},
     "output_type": "display_data"
    },
    {
     "name": "stderr",
     "output_type": "stream",
     "text": [
      "100%|██████████| 57451/57451 [02:11<00:00, 436.56it/s]\n"
     ]
    }
   ],
   "source": [
    "data_files = {\"test\": \"test.csv\"}\n",
    "dataset = load_dataset(\"PDJ107/riot-data\", data_files=data_files, revision='cgm_20', use_auth_token=True)\n",
    "\n",
    "dataset = TabularDatasetFromHuggingface(dataset['test'])"
   ]
  },
  {
   "cell_type": "markdown",
   "id": "9da1cb5c-3816-4c49-abc3-6c1b5d043fa0",
   "metadata": {},
   "source": [
    "#### 주요 피처(메타) 계산"
   ]
  },
  {
   "cell_type": "code",
   "execution_count": 8,
   "id": "e6347840-c4d3-44e7-9a34-9f65e5833fbb",
   "metadata": {},
   "outputs": [],
   "source": [
    "test_dataloader = DataLoader(dataset, batch_size=config['batch_size'], pin_memory=True)"
   ]
  },
  {
   "cell_type": "code",
   "execution_count": 30,
   "id": "cdea9b94-742c-4ced-af2c-d849bddd0fbc",
   "metadata": {
    "tags": []
   },
   "outputs": [
    {
     "name": "stderr",
     "output_type": "stream",
     "text": [
      "100%|██████████| 113/113 [00:24<00:00,  4.63it/s]\n"
     ]
    }
   ],
   "source": [
    "explains = []\n",
    "for x, label in tqdm(test_dataloader):\n",
    "    explain, _ = model.forward_masks(x.to(device))\n",
    "    explains.append(explain.detach().cpu())\n"
   ]
  },
  {
   "cell_type": "code",
   "execution_count": 36,
   "id": "5526a9ae-5dd0-4864-b2be-bf96cf23069b",
   "metadata": {},
   "outputs": [
    {
     "data": {
      "text/plain": [
       "350"
      ]
     },
     "execution_count": 36,
     "metadata": {},
     "output_type": "execute_result"
    }
   ],
   "source": [
    "len(explains[0][0])"
   ]
  },
  {
   "cell_type": "code",
   "execution_count": 44,
   "id": "9837ddd5-36d7-4cf8-ade7-ead22d230891",
   "metadata": {},
   "outputs": [],
   "source": [
    "M_explains = torch.stack(explains[:-1],dim=0)"
   ]
  },
  {
   "cell_type": "code",
   "execution_count": 55,
   "id": "a1876013-773d-4cae-a2be-780a48b47cad",
   "metadata": {},
   "outputs": [],
   "source": [
    "M_explains = M_explains.view(-1, 350)"
   ]
  },
  {
   "cell_type": "code",
   "execution_count": 61,
   "id": "6069ac7c-d3ac-41ab-9e5e-f0bb3ac3ab38",
   "metadata": {},
   "outputs": [],
   "source": [
    "for i in range(100):\n",
    "    assert torch.equal(M_explains[i], explains[0][i])"
   ]
  },
  {
   "cell_type": "code",
   "execution_count": 62,
   "id": "0ee315a4-b223-40b4-a214-07dc0b064b4e",
   "metadata": {},
   "outputs": [],
   "source": [
    "t = torch.sum(M_explains, dim=0).view(1,-1)"
   ]
  },
  {
   "cell_type": "markdown",
   "id": "1ac8f4b7-62f3-4796-9ff2-57e8ed189b4e",
   "metadata": {},
   "source": [
    "#### max_num개의 주요 피처 출력"
   ]
  },
  {
   "cell_type": "code",
   "execution_count": 63,
   "id": "a55fac3e-6acc-414f-bb75-48f069091c3f",
   "metadata": {},
   "outputs": [],
   "source": [
    "max_num = 20\n",
    "max_M_explains = [t[0].tolist().index(i) for i in sorted(t[0].tolist(), reverse=True)[:max_num]]"
   ]
  },
  {
   "cell_type": "code",
   "execution_count": 64,
   "id": "e47e711e-9328-44a5-9186-e6361ce6cad0",
   "metadata": {},
   "outputs": [
    {
     "data": {
      "text/plain": [
       "['magicDamageTaken_5_s',\n",
       " 'visionWardsBoughtInGame_3_s',\n",
       " 'totalDamageDealtToChampions_5_s',\n",
       " 'damageDealtToObjectives_9_s',\n",
       " 'totalTimeSpentDead_3_s',\n",
       " 'damageDealtToObjectives_2_s',\n",
       " 'dragonKills_3_s',\n",
       " 'deaths_6_s',\n",
       " 'neutralMinionsKilled_9_s',\n",
       " 'visionScore_3_s',\n",
       " 'magicDamageDealtToChampions_5_s',\n",
       " 'totalDamageDealtToChampions_7_s',\n",
       " 'visionScore_1_s',\n",
       " 'totalTimeCCDealt_8_s',\n",
       " 'assists_2_s',\n",
       " 'goldEarned_9_s',\n",
       " 'damageDealtToObjectives_1_s',\n",
       " 'dragonKills_0_s',\n",
       " 'wardsPlaced_3_s',\n",
       " 'turretKills_6_s']"
      ]
     },
     "execution_count": 64,
     "metadata": {},
     "output_type": "execute_result"
    }
   ],
   "source": [
    "[list(dataset.columns)[i] for i in max_M_explains]"
   ]
  },
  {
   "cell_type": "code",
   "execution_count": 65,
   "id": "d510538f-06eb-4170-b00b-7571c9d8cf1b",
   "metadata": {},
   "outputs": [
    {
     "data": {
      "image/png": "[encoded data removed]",
      "text/plain": [
       "<Figure size 1080x720 with 2 Axes>"
      ]
     },
     "metadata": {
      "needs_background": "light"
     },
     "output_type": "display_data"
    },
    {
     "name": "stdout",
     "output_type": "stream",
     "text": [
      "<PIL.Image.Image image mode=L size=350x1 at 0x7F4AB81BF310>\n"
     ]
    }
   ],
   "source": [
    "t = torch.sum(M_explains, dim=0).view(1,-1)\n",
    "t = torch.nn.functional.normalize(t)\n",
    "t = t\n",
    "fig, axes = plt.subplots(2, 1, figsize=(15,10))\n",
    "\n",
    "axes[0].set_xlim(0,350)\n",
    "axes[0].set_xticks([i*35 for i in range(10)])\n",
    "axes[0].bar(range(len(t[0])), t[0])\n",
    "\n",
    "axes[1].imshow(Equalize(to_pil_image(t).resize((350,100))), cmap='gray')\n",
    "plt.show()\n",
    "print(to_pil_image(t))"
   ]
  },
  {
   "cell_type": "code",
   "execution_count": null,
   "id": "5f274a45-b911-41e4-8c24-d6de7455f59e",
   "metadata": {},
   "outputs": [],
   "source": []
  }
 ],
 "metadata": {
  "kernelspec": {
   "display_name": "Python 3",
   "language": "python",
   "name": "python3"
  },
  "language_info": {
   "codemirror_mode": {
    "name": "ipython",
    "version": 3
   },
   "file_extension": ".py",
   "mimetype": "text/x-python",
   "name": "python",
   "nbconvert_exporter": "python",
   "pygments_lexer": "ipython3",
   "version": "3.7.11"
  }
 },
 "nbformat": 4,
 "nbformat_minor": 5
}
